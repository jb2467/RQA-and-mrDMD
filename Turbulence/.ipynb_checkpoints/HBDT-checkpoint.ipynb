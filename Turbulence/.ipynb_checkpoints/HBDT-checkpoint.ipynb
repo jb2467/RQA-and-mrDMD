{
 "cells": [
  {
   "cell_type": "code",
   "execution_count": 2,
   "id": "43d5a773-19fe-4736-b725-7489a0edb87b",
   "metadata": {
    "execution": {
     "iopub.execute_input": "2025-07-24T23:56:14.582556Z",
     "iopub.status.busy": "2025-07-24T23:56:14.580393Z",
     "iopub.status.idle": "2025-07-24T23:56:25.604603Z",
     "shell.execute_reply": "2025-07-24T23:56:25.601325Z",
     "shell.execute_reply.started": "2025-07-24T23:56:14.582490Z"
    },
    "tags": []
   },
   "outputs": [
    {
     "name": "stdout",
     "output_type": "stream",
     "text": [
      "Requirement already satisfied: pydmd in /home/idies/mambaforge/envs/py39/lib/python3.9/site-packages (2025.6.1)\n",
      "Requirement already satisfied: numpy in /home/idies/mambaforge/envs/py39/lib/python3.9/site-packages (from pydmd) (1.23.4)\n",
      "Requirement already satisfied: scipy>=1.6.0 in /home/idies/mambaforge/envs/py39/lib/python3.9/site-packages (from pydmd) (1.9.3)\n",
      "Requirement already satisfied: typing-extensions>=4.7.0 in /home/idies/mambaforge/envs/py39/lib/python3.9/site-packages (from pydmd) (4.12.2)\n",
      "Requirement already satisfied: h5netcdf in /home/idies/mambaforge/envs/py39/lib/python3.9/site-packages (from pydmd) (1.6.3)\n",
      "Requirement already satisfied: matplotlib in /home/idies/mambaforge/envs/py39/lib/python3.9/site-packages (from pydmd) (3.6.2)\n",
      "Requirement already satisfied: xarray in /home/idies/mambaforge/envs/py39/lib/python3.9/site-packages (from pydmd) (2022.11.0)\n",
      "Requirement already satisfied: scikit-learn in /home/idies/mambaforge/envs/py39/lib/python3.9/site-packages (from pydmd) (1.6.1)\n",
      "Requirement already satisfied: packaging in /home/idies/mambaforge/envs/py39/lib/python3.9/site-packages (from h5netcdf->pydmd) (21.3)\n",
      "Requirement already satisfied: h5py in /home/idies/mambaforge/envs/py39/lib/python3.9/site-packages (from h5netcdf->pydmd) (3.7.0)\n",
      "Requirement already satisfied: contourpy>=1.0.1 in /home/idies/mambaforge/envs/py39/lib/python3.9/site-packages (from matplotlib->pydmd) (1.0.6)\n",
      "Requirement already satisfied: fonttools>=4.22.0 in /home/idies/mambaforge/envs/py39/lib/python3.9/site-packages (from matplotlib->pydmd) (4.38.0)\n",
      "Requirement already satisfied: kiwisolver>=1.0.1 in /home/idies/mambaforge/envs/py39/lib/python3.9/site-packages (from matplotlib->pydmd) (1.4.4)\n",
      "Requirement already satisfied: pillow>=6.2.0 in /home/idies/mambaforge/envs/py39/lib/python3.9/site-packages (from matplotlib->pydmd) (9.2.0)\n",
      "Requirement already satisfied: cycler>=0.10 in /home/idies/mambaforge/envs/py39/lib/python3.9/site-packages (from matplotlib->pydmd) (0.11.0)\n",
      "Requirement already satisfied: pyparsing>=2.2.1 in /home/idies/mambaforge/envs/py39/lib/python3.9/site-packages (from matplotlib->pydmd) (3.0.9)\n",
      "Requirement already satisfied: python-dateutil>=2.7 in /home/idies/mambaforge/envs/py39/lib/python3.9/site-packages (from matplotlib->pydmd) (2.8.2)\n",
      "Requirement already satisfied: joblib>=1.2.0 in /home/idies/mambaforge/envs/py39/lib/python3.9/site-packages (from scikit-learn->pydmd) (1.5.1)\n",
      "Requirement already satisfied: threadpoolctl>=3.1.0 in /home/idies/mambaforge/envs/py39/lib/python3.9/site-packages (from scikit-learn->pydmd) (3.6.0)\n",
      "Requirement already satisfied: pandas>=1.3 in /home/idies/mambaforge/envs/py39/lib/python3.9/site-packages (from xarray->pydmd) (1.5.1)\n",
      "Requirement already satisfied: pytz>=2020.1 in /home/idies/mambaforge/envs/py39/lib/python3.9/site-packages (from pandas>=1.3->xarray->pydmd) (2022.6)\n",
      "Requirement already satisfied: six>=1.5 in /home/idies/mambaforge/envs/py39/lib/python3.9/site-packages (from python-dateutil>=2.7->matplotlib->pydmd) (1.16.0)\n",
      "Note: you may need to restart the kernel to use updated packages.\n",
      "Requirement already satisfied: statsmodels in /home/idies/mambaforge/envs/py39/lib/python3.9/site-packages (0.14.5)\n",
      "Requirement already satisfied: pandas!=2.1.0,>=1.4 in /home/idies/mambaforge/envs/py39/lib/python3.9/site-packages (from statsmodels) (1.5.1)\n",
      "Requirement already satisfied: numpy<3,>=1.22.3 in /home/idies/mambaforge/envs/py39/lib/python3.9/site-packages (from statsmodels) (1.23.4)\n",
      "Requirement already satisfied: scipy!=1.9.2,>=1.8 in /home/idies/mambaforge/envs/py39/lib/python3.9/site-packages (from statsmodels) (1.9.3)\n",
      "Requirement already satisfied: patsy>=0.5.6 in /home/idies/mambaforge/envs/py39/lib/python3.9/site-packages (from statsmodels) (1.0.1)\n",
      "Requirement already satisfied: packaging>=21.3 in /home/idies/mambaforge/envs/py39/lib/python3.9/site-packages (from statsmodels) (21.3)\n",
      "Requirement already satisfied: pyparsing!=3.0.5,>=2.0.2 in /home/idies/mambaforge/envs/py39/lib/python3.9/site-packages (from packaging>=21.3->statsmodels) (3.0.9)\n",
      "Requirement already satisfied: python-dateutil>=2.8.1 in /home/idies/mambaforge/envs/py39/lib/python3.9/site-packages (from pandas!=2.1.0,>=1.4->statsmodels) (2.8.2)\n",
      "Requirement already satisfied: pytz>=2020.1 in /home/idies/mambaforge/envs/py39/lib/python3.9/site-packages (from pandas!=2.1.0,>=1.4->statsmodels) (2022.6)\n",
      "Requirement already satisfied: six>=1.5 in /home/idies/mambaforge/envs/py39/lib/python3.9/site-packages (from python-dateutil>=2.8.1->pandas!=2.1.0,>=1.4->statsmodels) (1.16.0)\n",
      "Note: you may need to restart the kernel to use updated packages.\n"
     ]
    },
    {
     "ename": "ModuleNotFoundError",
     "evalue": "No module named 'CustomRQA'",
     "output_type": "error",
     "traceback": [
      "\u001b[0;31m---------------------------------------------------------------------------\u001b[0m",
      "\u001b[0;31mModuleNotFoundError\u001b[0m                       Traceback (most recent call last)",
      "Cell \u001b[0;32mIn [2], line 14\u001b[0m\n\u001b[1;32m     12\u001b[0m \u001b[38;5;28;01mfrom\u001b[39;00m \u001b[38;5;21;01msklearn\u001b[39;00m \u001b[38;5;28;01mimport\u001b[39;00m preprocessing\n\u001b[1;32m     13\u001b[0m \u001b[38;5;28;01mfrom\u001b[39;00m \u001b[38;5;21;01msklearn\u001b[39;00m\u001b[38;5;21;01m.\u001b[39;00m\u001b[38;5;21;01mpreprocessing\u001b[39;00m \u001b[38;5;28;01mimport\u001b[39;00m StandardScaler\n\u001b[0;32m---> 14\u001b[0m \u001b[38;5;28;01mimport\u001b[39;00m \u001b[38;5;21;01mCustomRQA\u001b[39;00m \u001b[38;5;28;01mas\u001b[39;00m \u001b[38;5;21;01mrqa\u001b[39;00m\n\u001b[1;32m     15\u001b[0m \u001b[38;5;28;01mimport\u001b[39;00m \u001b[38;5;21;01mtruncate\u001b[39;00m \u001b[38;5;28;01mas\u001b[39;00m \u001b[38;5;21;01mtr\u001b[39;00m\n\u001b[1;32m     17\u001b[0m url \u001b[38;5;241m=\u001b[39m \u001b[38;5;124m'\u001b[39m\u001b[38;5;124mData/mixingdata2187.npy\u001b[39m\u001b[38;5;124m'\u001b[39m\n",
      "\u001b[0;31mModuleNotFoundError\u001b[0m: No module named 'CustomRQA'"
     ]
    }
   ],
   "source": [
    "import numpy as np\n",
    "import matplotlib.pyplot as plt\n",
    "import pandas as pd\n",
    "from scipy.integrate import odeint\n",
    "%pip install pydmd\n",
    "%pip install statsmodels\n",
    "from pydmd import DMD, BOPDMD, MrDMD\n",
    "from pydmd.plotter import plot_eigs, plot_summary\n",
    "from pydmd.preprocessing import hankel_preprocessing\n",
    "import warnings\n",
    "warnings.filterwarnings('ignore')\n",
    "from sklearn import preprocessing\n",
    "from sklearn.preprocessing import StandardScaler\n",
    "import CustomRQA as rqa\n",
    "import truncate as tr\n",
    "\n",
    "url = 'Data/mixingdata2187.npy'\n",
    "x = np.load(url)\n",
    "total_t = 40.44\n",
    "n_tgt = 1012\n",
    "dt = total_t / (n_tgt - 1)\n",
    "t = np.linspace(0, total_t, n_tgt)\n",
    "\n",
    "print(dt, t)\n",
    "X = StandardScaler().fit_transform(x)\n",
    "print(X.shape)"
   ]
  },
  {
   "cell_type": "code",
   "execution_count": null,
   "id": "11cf1381-52a0-431d-8bef-b926e8103476",
   "metadata": {
    "execution": {
     "iopub.status.busy": "2025-07-24T23:55:37.912678Z",
     "iopub.status.idle": "2025-07-24T23:55:37.913573Z",
     "shell.execute_reply": "2025-07-24T23:55:37.913229Z",
     "shell.execute_reply.started": "2025-07-24T23:55:37.913182Z"
    }
   },
   "outputs": [],
   "source": [
    "plt.figure(figsize=(20,8))\n",
    "for i in range(X.shape[0]):\n",
    "    plt.plot(X[i] )\n",
    "plt.title('HBDT All time series and regime shifts', fontsize = 25)\n",
    "plt.axvline(165, color='red', linestyle='dotted', label='1st Regime change')\n",
    "plt.axvline(286, color='red', linestyle='dotted', label='2nd Regime change')\n",
    "plt.axvline(364, color='red', linestyle='dotted', label='3rd Regime change')\n",
    "plt.axvline(501, color='red', linestyle='dotted', label='4th Regime change')\n",
    "plt.axvline(751, color='red', linestyle='dotted', label='5th Regime change')\n",
    "plt.legend()\n",
    "plt.show()"
   ]
  },
  {
   "cell_type": "code",
   "execution_count": null,
   "id": "018b7045-5251-4fea-ba6d-20db8c69dfb7",
   "metadata": {
    "execution": {
     "iopub.status.busy": "2025-07-24T23:55:37.917224Z",
     "iopub.status.idle": "2025-07-24T23:55:37.918162Z",
     "shell.execute_reply": "2025-07-24T23:55:37.917771Z",
     "shell.execute_reply.started": "2025-07-24T23:55:37.917688Z"
    }
   },
   "outputs": [],
   "source": [
    "sub_dmd = DMD(svd_rank=0.75)\n",
    "l=8\n",
    "# X = X[:,286:]\n",
    "mrdmd = MrDMD(sub_dmd, max_level=l, max_cycles=1)\n",
    "mrdmd.fit(X)\n",
    "for j in range(l,l+1):\n",
    "    last_dynamics = mrdmd.partial_dynamics(level=j)\n",
    "    last_modes =  mrdmd.partial_modes(level=j)\n",
    "    last_eigs =  mrdmd.partial_eigs(level=j)\n",
    "    plt.figure(figsize=(25,10))\n",
    "    for i in range(last_dynamics.shape[0]):\n",
    "        plt.plot(last_dynamics[i])\n",
    "    plt.title(f'Level {j}')\n",
    "    plt.show()"
   ]
  },
  {
   "cell_type": "code",
   "execution_count": null,
   "id": "8ebfeb9c-b3fa-46b3-b3ab-37d073719e13",
   "metadata": {
    "execution": {
     "iopub.status.busy": "2025-07-24T23:55:37.920667Z",
     "iopub.status.idle": "2025-07-24T23:55:37.921434Z",
     "shell.execute_reply": "2025-07-24T23:55:37.921093Z",
     "shell.execute_reply.started": "2025-07-24T23:55:37.921050Z"
    }
   },
   "outputs": [],
   "source": [
    "df_dynamics = tr.correlation_truncate(last_dynamics.T, threshold = 0.80)\n",
    "all_vectors_new = df_dynamics.to_numpy()\n"
   ]
  },
  {
   "cell_type": "code",
   "execution_count": null,
   "id": "5f4819b4-136e-4f7b-98fe-263a40310fd1",
   "metadata": {
    "execution": {
     "iopub.status.busy": "2025-07-24T23:55:37.923104Z",
     "iopub.status.idle": "2025-07-24T23:55:37.923890Z",
     "shell.execute_reply": "2025-07-24T23:55:37.923489Z",
     "shell.execute_reply.started": "2025-07-24T23:55:37.923446Z"
    }
   },
   "outputs": [],
   "source": [
    "all_vectors = all_vectors_new\n",
    "print(all_vectors_new.shape)\n",
    "p=10"
   ]
  },
  {
   "cell_type": "code",
   "execution_count": null,
   "id": "bd65cb17-8f4c-4f8d-9329-fe8f741cf179",
   "metadata": {
    "execution": {
     "iopub.status.busy": "2025-07-24T23:55:37.927533Z",
     "iopub.status.idle": "2025-07-24T23:55:37.928440Z",
     "shell.execute_reply": "2025-07-24T23:55:37.928016Z",
     "shell.execute_reply.started": "2025-07-24T23:55:37.927973Z"
    }
   },
   "outputs": [],
   "source": [
    "metrics = rqa.RecurrencePlot(all_vectors, percent=p, metric ='euclidean', globalEpsilon=True, Title = 'HBDT Euclidean Distance and 80% Correlation Truncate',lines = True)"
   ]
  },
  {
   "cell_type": "code",
   "execution_count": null,
   "id": "b5faefab-1a92-4b78-a6c0-d740d4ff78eb",
   "metadata": {
    "execution": {
     "iopub.status.busy": "2025-07-24T23:55:37.931315Z",
     "iopub.status.idle": "2025-07-24T23:55:37.932106Z",
     "shell.execute_reply": "2025-07-24T23:55:37.931722Z",
     "shell.execute_reply.started": "2025-07-24T23:55:37.931678Z"
    }
   },
   "outputs": [],
   "source": [
    "dt = 0.04\n",
    "window_size = int(0.1 * all_vectors.shape[0])\n",
    "\n",
    "# compute RQA\n",
    "times, DETS, LAMS, ENTRS = rqa.sliding_window_rqa(\n",
    "    all_vectors, p, metric='euclidean', q=1,\n",
    "    window_size=window_size, step=1,\n",
    "    l_min=2, v_min=2, globalEpsilon=True\n",
    ")\n",
    "\n",
    "# real‑time axes\n",
    "real_times = times * dt\n",
    "total_time = X.shape[1] * dt\n",
    "time_axis = np.arange(X.shape[1]) * dt\n",
    "\n",
    "regime_times = [6.56, 11.4, 14.56, 20.0, 30.0]\n",
    "regime_kwargs = dict(color='red', linestyle='dotted')\n",
    "\n",
    "fig, axes = plt.subplots(4, 1, sharex=True, figsize=(12, 6), constrained_layout=True)\n",
    "\n",
    "labels = ['(a)', '(b)', '(c)', '(d)']\n",
    "\n",
    "for row in X:\n",
    "    axes[0].plot(time_axis, row, alpha=0.6)\n",
    "axes[0].set_ylabel('Value', fontsize=20)\n",
    "axes[0].set_title('HBDT All time series and regime shifts', fontsize=14)\n",
    "for t in regime_times:\n",
    "    axes[0].axvline(t, **regime_kwargs)\n",
    "axes[0].text(1, 0.51, labels[0], transform=axes[0].transAxes,\n",
    "             fontsize=14, fontweight='bold')\n",
    "\n",
    "axes[1].plot(real_times, DETS)\n",
    "axes[1].set_ylabel('DET', fontsize=20)\n",
    "axes[1].set_title('Determinism vs. Time', fontsize=14)\n",
    "for t in regime_times:\n",
    "    axes[1].axvline(t, **regime_kwargs)\n",
    "axes[1].text(1, 0.51, labels[1], transform=axes[1].transAxes,\n",
    "             fontsize=14, fontweight='bold')\n",
    "\n",
    "axes[2].plot(real_times, LAMS)\n",
    "axes[2].set_ylabel('LAM', fontsize=20)\n",
    "axes[2].set_title('Laminarity vs. Time', fontsize=14)\n",
    "for t in regime_times:\n",
    "    axes[2].axvline(t, **regime_kwargs)\n",
    "axes[2].text(1, 0.51, labels[2], transform=axes[2].transAxes,\n",
    "             fontsize=14, fontweight='bold')\n",
    "\n",
    "axes[3].plot(real_times, ENTRS)\n",
    "axes[3].set_ylabel('ENTR', fontsize=20)\n",
    "axes[3].set_title('Entropy vs. Time', fontsize=14)\n",
    "for t in regime_times:\n",
    "    axes[3].axvline(t, **regime_kwargs)\n",
    "axes[3].text(1,0.51, labels[3], transform=axes[3].transAxes,\n",
    "             fontsize=14, fontweight='bold')\n",
    "\n",
    "axes[3].set_xlabel('Time (s)', fontsize=20)\n",
    "axes[3].set_xlim(0, total_time)\n",
    "\n",
    "plt.show()\n"
   ]
  },
  {
   "cell_type": "code",
   "execution_count": null,
   "id": "a316eaae-ff35-44c2-912e-7f1403490627",
   "metadata": {},
   "outputs": [],
   "source": []
  },
  {
   "cell_type": "code",
   "execution_count": null,
   "id": "a0138128-49ca-4a20-aa7d-9a2d588956bf",
   "metadata": {},
   "outputs": [],
   "source": []
  }
 ],
 "metadata": {
  "kernelspec": {
   "display_name": "Python 3.9 (py39)",
   "language": "python",
   "name": "py39"
  },
  "language_info": {
   "codemirror_mode": {
    "name": "ipython",
    "version": 3
   },
   "file_extension": ".py",
   "mimetype": "text/x-python",
   "name": "python",
   "nbconvert_exporter": "python",
   "pygments_lexer": "ipython3",
   "version": "3.9.13"
  }
 },
 "nbformat": 4,
 "nbformat_minor": 5
}

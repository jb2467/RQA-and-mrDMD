{
 "cells": [
  {
   "cell_type": "code",
   "execution_count": 1,
   "id": "286be596-699f-41fb-8148-a0a1b1da5995",
   "metadata": {
    "execution": {
     "iopub.execute_input": "2025-07-13T13:12:55.410767Z",
     "iopub.status.busy": "2025-07-13T13:12:55.410139Z",
     "iopub.status.idle": "2025-07-13T13:13:00.713198Z",
     "shell.execute_reply": "2025-07-13T13:13:00.710842Z",
     "shell.execute_reply.started": "2025-07-13T13:12:55.410605Z"
    },
    "tags": []
   },
   "outputs": [],
   "source": [
    "from giverny.turbulence_dataset import *\n",
    "from giverny.turbulence_toolkit import *\n",
    "import numpy as np\n",
    "import pandas as pd\n",
    "auth_token = \n",
    "#auth_token = 'edu.jhu.pha.turbulence.testing-201406'\n",
    "dataset_title = 'mixing'\n",
    "output_path = './giverny_output'\n",
    "\n",
    "dataset = turb_dataset(dataset_title = dataset_title, output_path = output_path, auth_token = auth_token)"
   ]
  },
  {
   "cell_type": "code",
   "execution_count": 2,
   "id": "fc959080-5c04-4699-8cc9-0467da2c6d1d",
   "metadata": {
    "execution": {
     "iopub.execute_input": "2025-07-13T13:13:00.718820Z",
     "iopub.status.busy": "2025-07-13T13:13:00.717787Z",
     "iopub.status.idle": "2025-07-13T13:13:00.730662Z",
     "shell.execute_reply": "2025-07-13T13:13:00.728791Z",
     "shell.execute_reply.started": "2025-07-13T13:13:00.718710Z"
    },
    "tags": []
   },
   "outputs": [],
   "source": [
    "var = \"velocity\"\n",
    "total_time  = 40.44\n",
    "t0  = 0\n",
    "dt = 0.04\n",
    "n_tgt = total_time / dt + 1\n",
    "n_tgt = int(n_tgt)\n",
    "option = [total_time, dt]\n",
    "times    = np.linspace(0.0, total_time, n_tgt)\n",
    "spatial_method = \"none\"\n",
    "temporal_method = \"none\"\n",
    "spatial_op = \"field\"\n",
    "option = [total_time, dt]"
   ]
  },
  {
   "cell_type": "code",
   "execution_count": null,
   "id": "3038afde-2e72-4107-92a8-e27a4eaaa6ce",
   "metadata": {
    "execution": {
     "iopub.execute_input": "2025-07-13T13:13:00.733589Z",
     "iopub.status.busy": "2025-07-13T13:13:00.733057Z"
    },
    "tags": []
   },
   "outputs": [
    {
     "name": "stdout",
     "output_type": "stream",
     "text": [
      "[0.         0.78539816 1.57079633 2.35619449 3.14159265 3.92699082\n",
      " 4.71238898 5.49778714 6.28318531] [0.         0.78539816 1.57079633 2.35619449 3.14159265 3.92699082\n",
      " 4.71238898 5.49778714 6.28318531] [0.         0.78539816 1.57079633 2.35619449 3.14159265 3.92699082\n",
      " 4.71238898 5.49778714 6.28318531]\n",
      "[[0.         0.         0.        ]\n",
      " [0.         0.         0.78539816]\n",
      " [0.         0.         1.57079633]\n",
      " ...\n",
      " [6.28318531 6.28318531 4.71238898]\n",
      " [6.28318531 6.28318531 5.49778714]\n",
      " [6.28318531 6.28318531 6.28318531]]\n",
      "\n",
      "-----\n",
      "getData is processing...\n"
     ]
    },
    {
     "data": {
      "application/vnd.jupyter.widget-view+json": {
       "model_id": "37c2cae555e84a2a8d0751e8ebf86996",
       "version_major": 2,
       "version_minor": 0
      },
      "text/plain": [
       "times completed (n = 1012) :   0%|          | 0/1012 [00:00<?, ?it/s]"
      ]
     },
     "metadata": {},
     "output_type": "display_data"
    }
   ],
   "source": [
    "nx, ny, nz = 9, 9,9\n",
    "xs = np.linspace(0, 2*np.pi, nx)\n",
    "ys = np.linspace(0, 2*np.pi, ny)\n",
    "zs = np.linspace(0, 2*np.pi, nz)\n",
    "points = np.array([axis.ravel() for axis in np.meshgrid(xs, ys, zs, indexing = 'ij')], dtype = np.float64).T\n",
    "print(xs,ys,zs)\n",
    "print(points)\n",
    "arrays = []\n",
    "raw = getData(dataset, 'velocity',t0,temporal_method, spatial_method, spatial_op, points, option)\n",
    "raw = np.asarray(raw)                  \n",
    "nt, *space_dims = raw.shape            \n",
    "n_space = np.prod(space_dims)          \n",
    "\n",
    "# reshape to (nt, n_space)\n",
    "snapshots = (raw.reshape(nt, n_space)).T\n",
    "print(snapshots.shape)\n",
    "np.save('mixingdata5184.npy', snapshots)"
   ]
  },
  {
   "cell_type": "code",
   "execution_count": null,
   "id": "44ccd582-2566-4466-a965-19a71011899f",
   "metadata": {
    "tags": []
   },
   "outputs": [],
   "source": [
    "arrays = []\n",
    "raw = getData(dataset, 'velocity',t0,temporal_method, spatial_method, spatial_op, points, option)\n",
    "raw = np.asarray(raw)                  \n",
    "nt, *space_dims = raw.shape            \n",
    "n_space = np.prod(space_dims)          \n",
    "\n",
    "snapshots = (raw.reshape(nt, n_space)).T\n",
    "print(snapshots.shape)\n",
    "np.save('.npy', snapshots)"
   ]
  },
  {
   "cell_type": "code",
   "execution_count": null,
   "id": "ea48002f-dded-4449-9ba5-586eaa5719c1",
   "metadata": {
    "tags": []
   },
   "outputs": [],
   "source": [
    "raw = np.asarray(raw)                 \n",
    "nt, *space_dims = raw.shape            \n",
    "n_space = np.prod(space_dims)          \n",
    "\n",
    "# reshape to (nt, n_space)\n",
    "snapshots = (raw.reshape(nt, n_space)).T"
   ]
  },
  {
   "cell_type": "code",
   "execution_count": null,
   "id": "0daf2b4e-e724-40e6-b50f-031f33c11321",
   "metadata": {
    "tags": []
   },
   "outputs": [],
   "source": [
    "print(snapshots.shape)"
   ]
  },
  {
   "cell_type": "code",
   "execution_count": null,
   "id": "1914636b-4491-4093-8dbd-8f88fc122ffe",
   "metadata": {
    "tags": []
   },
   "outputs": [],
   "source": [
    "np.save('.npy', snapshots)"
   ]
  },
  {
   "cell_type": "code",
   "execution_count": null,
   "id": "d1a39d7b-971b-4c8d-b74a-d0a6268a8158",
   "metadata": {},
   "outputs": [],
   "source": []
  }
 ],
 "metadata": {
  "kernelspec": {
   "display_name": "Python 3.9 (py39)",
   "language": "python",
   "name": "py39"
  },
  "language_info": {
   "codemirror_mode": {
    "name": "ipython",
    "version": 3
   },
   "file_extension": ".py",
   "mimetype": "text/x-python",
   "name": "python",
   "nbconvert_exporter": "python",
   "pygments_lexer": "ipython3",
   "version": "3.9.13"
  }
 },
 "nbformat": 4,
 "nbformat_minor": 5
}
